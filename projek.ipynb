{
 "cells": [
  {
   "cell_type": "markdown",
   "id": "ee28c78d",
   "metadata": {},
   "source": [
    "***Import Library***"
   ]
  },
  {
   "cell_type": "code",
   "execution_count": 32,
   "id": "01a4f151",
   "metadata": {},
   "outputs": [],
   "source": [
    "import pandas as pd\n",
    "import matplotlib.pyplot as plt\n",
    "import seaborn as sns\n",
    "import joblib\n",
    "from sklearn.ensemble import RandomForestRegressor\n",
    "from sklearn.preprocessing import OneHotEncoder\n",
    "from sklearn.compose import ColumnTransformer\n",
    "from sklearn.pipeline import Pipeline\n",
    "import streamlit as st\n",
    "import google.generativeai as genai\n",
    "from sklearn.model_selection import train_test_split   \n",
    "from sklearn.metrics import mean_absolute_error, r2_score"
   ]
  },
  {
   "cell_type": "markdown",
   "id": "6187d1e2",
   "metadata": {},
   "source": [
    "***Data Exploration***"
   ]
  },
  {
   "cell_type": "code",
   "execution_count": 33,
   "id": "75f7a6b2",
   "metadata": {},
   "outputs": [],
   "source": [
    "global_df = pd.read_csv(\"global_salary.csv\")\n",
    "salary_df = pd.read_csv(\"Salary_Data.csv\")"
   ]
  },
  {
   "cell_type": "markdown",
   "id": "5cd82092",
   "metadata": {},
   "source": [
    "Salary"
   ]
  },
  {
   "cell_type": "code",
   "execution_count": 34,
   "id": "2730f48d",
   "metadata": {},
   "outputs": [
    {
     "data": {
      "application/vnd.microsoft.datawrangler.viewer.v0+json": {
       "columns": [
        {
         "name": "index",
         "rawType": "int64",
         "type": "integer"
        },
        {
         "name": "Age",
         "rawType": "float64",
         "type": "float"
        },
        {
         "name": "Gender",
         "rawType": "object",
         "type": "string"
        },
        {
         "name": "Education Level",
         "rawType": "object",
         "type": "string"
        },
        {
         "name": "Job Title",
         "rawType": "object",
         "type": "string"
        },
        {
         "name": "Years of Experience",
         "rawType": "float64",
         "type": "float"
        },
        {
         "name": "Salary",
         "rawType": "float64",
         "type": "float"
        }
       ],
       "ref": "dcbbfc32-bd45-4f63-bb05-e2f6b8b9f98a",
       "rows": [
        [
         "0",
         "32.0",
         "Male",
         "Bachelor's",
         "Software Engineer",
         "5.0",
         "90000.0"
        ],
        [
         "1",
         "28.0",
         "Female",
         "Master's",
         "Data Analyst",
         "3.0",
         "65000.0"
        ],
        [
         "2",
         "45.0",
         "Male",
         "PhD",
         "Senior Manager",
         "15.0",
         "150000.0"
        ],
        [
         "3",
         "36.0",
         "Female",
         "Bachelor's",
         "Sales Associate",
         "7.0",
         "60000.0"
        ],
        [
         "4",
         "52.0",
         "Male",
         "Master's",
         "Director",
         "20.0",
         "200000.0"
        ]
       ],
       "shape": {
        "columns": 6,
        "rows": 5
       }
      },
      "text/html": [
       "<div>\n",
       "<style scoped>\n",
       "    .dataframe tbody tr th:only-of-type {\n",
       "        vertical-align: middle;\n",
       "    }\n",
       "\n",
       "    .dataframe tbody tr th {\n",
       "        vertical-align: top;\n",
       "    }\n",
       "\n",
       "    .dataframe thead th {\n",
       "        text-align: right;\n",
       "    }\n",
       "</style>\n",
       "<table border=\"1\" class=\"dataframe\">\n",
       "  <thead>\n",
       "    <tr style=\"text-align: right;\">\n",
       "      <th></th>\n",
       "      <th>Age</th>\n",
       "      <th>Gender</th>\n",
       "      <th>Education Level</th>\n",
       "      <th>Job Title</th>\n",
       "      <th>Years of Experience</th>\n",
       "      <th>Salary</th>\n",
       "    </tr>\n",
       "  </thead>\n",
       "  <tbody>\n",
       "    <tr>\n",
       "      <th>0</th>\n",
       "      <td>32.0</td>\n",
       "      <td>Male</td>\n",
       "      <td>Bachelor's</td>\n",
       "      <td>Software Engineer</td>\n",
       "      <td>5.0</td>\n",
       "      <td>90000.0</td>\n",
       "    </tr>\n",
       "    <tr>\n",
       "      <th>1</th>\n",
       "      <td>28.0</td>\n",
       "      <td>Female</td>\n",
       "      <td>Master's</td>\n",
       "      <td>Data Analyst</td>\n",
       "      <td>3.0</td>\n",
       "      <td>65000.0</td>\n",
       "    </tr>\n",
       "    <tr>\n",
       "      <th>2</th>\n",
       "      <td>45.0</td>\n",
       "      <td>Male</td>\n",
       "      <td>PhD</td>\n",
       "      <td>Senior Manager</td>\n",
       "      <td>15.0</td>\n",
       "      <td>150000.0</td>\n",
       "    </tr>\n",
       "    <tr>\n",
       "      <th>3</th>\n",
       "      <td>36.0</td>\n",
       "      <td>Female</td>\n",
       "      <td>Bachelor's</td>\n",
       "      <td>Sales Associate</td>\n",
       "      <td>7.0</td>\n",
       "      <td>60000.0</td>\n",
       "    </tr>\n",
       "    <tr>\n",
       "      <th>4</th>\n",
       "      <td>52.0</td>\n",
       "      <td>Male</td>\n",
       "      <td>Master's</td>\n",
       "      <td>Director</td>\n",
       "      <td>20.0</td>\n",
       "      <td>200000.0</td>\n",
       "    </tr>\n",
       "  </tbody>\n",
       "</table>\n",
       "</div>"
      ],
      "text/plain": [
       "    Age  Gender Education Level          Job Title  Years of Experience  \\\n",
       "0  32.0    Male      Bachelor's  Software Engineer                  5.0   \n",
       "1  28.0  Female        Master's       Data Analyst                  3.0   \n",
       "2  45.0    Male             PhD     Senior Manager                 15.0   \n",
       "3  36.0  Female      Bachelor's    Sales Associate                  7.0   \n",
       "4  52.0    Male        Master's           Director                 20.0   \n",
       "\n",
       "     Salary  \n",
       "0   90000.0  \n",
       "1   65000.0  \n",
       "2  150000.0  \n",
       "3   60000.0  \n",
       "4  200000.0  "
      ]
     },
     "execution_count": 34,
     "metadata": {},
     "output_type": "execute_result"
    }
   ],
   "source": [
    "salary_df.head()"
   ]
  },
  {
   "cell_type": "code",
   "execution_count": 35,
   "id": "fa898182",
   "metadata": {},
   "outputs": [
    {
     "name": "stdout",
     "output_type": "stream",
     "text": [
      "<class 'pandas.core.frame.DataFrame'>\n",
      "RangeIndex: 6704 entries, 0 to 6703\n",
      "Data columns (total 6 columns):\n",
      " #   Column               Non-Null Count  Dtype  \n",
      "---  ------               --------------  -----  \n",
      " 0   Age                  6702 non-null   float64\n",
      " 1   Gender               6702 non-null   object \n",
      " 2   Education Level      6701 non-null   object \n",
      " 3   Job Title            6702 non-null   object \n",
      " 4   Years of Experience  6701 non-null   float64\n",
      " 5   Salary               6699 non-null   float64\n",
      "dtypes: float64(3), object(3)\n",
      "memory usage: 314.4+ KB\n"
     ]
    }
   ],
   "source": [
    "salary_df.info()"
   ]
  },
  {
   "cell_type": "code",
   "execution_count": 36,
   "id": "6ac05621",
   "metadata": {},
   "outputs": [
    {
     "data": {
      "application/vnd.microsoft.datawrangler.viewer.v0+json": {
       "columns": [
        {
         "name": "index",
         "rawType": "object",
         "type": "string"
        },
        {
         "name": "Age",
         "rawType": "float64",
         "type": "float"
        },
        {
         "name": "Years of Experience",
         "rawType": "float64",
         "type": "float"
        },
        {
         "name": "Salary",
         "rawType": "float64",
         "type": "float"
        }
       ],
       "ref": "43cd8b14-8897-4810-b8ac-6dd48685f831",
       "rows": [
        [
         "count",
         "6702.0",
         "6701.0",
         "6699.0"
        ],
        [
         "mean",
         "33.62085944494181",
         "8.094687360095508",
         "115326.96477086132"
        ],
        [
         "std",
         "7.614632626251303",
         "6.059003056634102",
         "52786.18391068297"
        ],
        [
         "min",
         "21.0",
         "0.0",
         "350.0"
        ],
        [
         "25%",
         "28.0",
         "3.0",
         "70000.0"
        ],
        [
         "50%",
         "32.0",
         "7.0",
         "115000.0"
        ],
        [
         "75%",
         "38.0",
         "12.0",
         "160000.0"
        ],
        [
         "max",
         "62.0",
         "34.0",
         "250000.0"
        ]
       ],
       "shape": {
        "columns": 3,
        "rows": 8
       }
      },
      "text/html": [
       "<div>\n",
       "<style scoped>\n",
       "    .dataframe tbody tr th:only-of-type {\n",
       "        vertical-align: middle;\n",
       "    }\n",
       "\n",
       "    .dataframe tbody tr th {\n",
       "        vertical-align: top;\n",
       "    }\n",
       "\n",
       "    .dataframe thead th {\n",
       "        text-align: right;\n",
       "    }\n",
       "</style>\n",
       "<table border=\"1\" class=\"dataframe\">\n",
       "  <thead>\n",
       "    <tr style=\"text-align: right;\">\n",
       "      <th></th>\n",
       "      <th>Age</th>\n",
       "      <th>Years of Experience</th>\n",
       "      <th>Salary</th>\n",
       "    </tr>\n",
       "  </thead>\n",
       "  <tbody>\n",
       "    <tr>\n",
       "      <th>count</th>\n",
       "      <td>6702.000000</td>\n",
       "      <td>6701.000000</td>\n",
       "      <td>6699.000000</td>\n",
       "    </tr>\n",
       "    <tr>\n",
       "      <th>mean</th>\n",
       "      <td>33.620859</td>\n",
       "      <td>8.094687</td>\n",
       "      <td>115326.964771</td>\n",
       "    </tr>\n",
       "    <tr>\n",
       "      <th>std</th>\n",
       "      <td>7.614633</td>\n",
       "      <td>6.059003</td>\n",
       "      <td>52786.183911</td>\n",
       "    </tr>\n",
       "    <tr>\n",
       "      <th>min</th>\n",
       "      <td>21.000000</td>\n",
       "      <td>0.000000</td>\n",
       "      <td>350.000000</td>\n",
       "    </tr>\n",
       "    <tr>\n",
       "      <th>25%</th>\n",
       "      <td>28.000000</td>\n",
       "      <td>3.000000</td>\n",
       "      <td>70000.000000</td>\n",
       "    </tr>\n",
       "    <tr>\n",
       "      <th>50%</th>\n",
       "      <td>32.000000</td>\n",
       "      <td>7.000000</td>\n",
       "      <td>115000.000000</td>\n",
       "    </tr>\n",
       "    <tr>\n",
       "      <th>75%</th>\n",
       "      <td>38.000000</td>\n",
       "      <td>12.000000</td>\n",
       "      <td>160000.000000</td>\n",
       "    </tr>\n",
       "    <tr>\n",
       "      <th>max</th>\n",
       "      <td>62.000000</td>\n",
       "      <td>34.000000</td>\n",
       "      <td>250000.000000</td>\n",
       "    </tr>\n",
       "  </tbody>\n",
       "</table>\n",
       "</div>"
      ],
      "text/plain": [
       "               Age  Years of Experience         Salary\n",
       "count  6702.000000          6701.000000    6699.000000\n",
       "mean     33.620859             8.094687  115326.964771\n",
       "std       7.614633             6.059003   52786.183911\n",
       "min      21.000000             0.000000     350.000000\n",
       "25%      28.000000             3.000000   70000.000000\n",
       "50%      32.000000             7.000000  115000.000000\n",
       "75%      38.000000            12.000000  160000.000000\n",
       "max      62.000000            34.000000  250000.000000"
      ]
     },
     "execution_count": 36,
     "metadata": {},
     "output_type": "execute_result"
    }
   ],
   "source": [
    "salary_df.describe()"
   ]
  },
  {
   "cell_type": "code",
   "execution_count": 37,
   "id": "dabd1986",
   "metadata": {},
   "outputs": [
    {
     "data": {
      "application/vnd.microsoft.datawrangler.viewer.v0+json": {
       "columns": [
        {
         "name": "index",
         "rawType": "object",
         "type": "string"
        },
        {
         "name": "0",
         "rawType": "int64",
         "type": "integer"
        }
       ],
       "ref": "3e82b836-e3a5-4033-aa96-93f1c5988281",
       "rows": [
        [
         "Age",
         "2"
        ],
        [
         "Gender",
         "2"
        ],
        [
         "Education Level",
         "3"
        ],
        [
         "Job Title",
         "2"
        ],
        [
         "Years of Experience",
         "3"
        ],
        [
         "Salary",
         "5"
        ]
       ],
       "shape": {
        "columns": 1,
        "rows": 6
       }
      },
      "text/plain": [
       "Age                    2\n",
       "Gender                 2\n",
       "Education Level        3\n",
       "Job Title              2\n",
       "Years of Experience    3\n",
       "Salary                 5\n",
       "dtype: int64"
      ]
     },
     "execution_count": 37,
     "metadata": {},
     "output_type": "execute_result"
    }
   ],
   "source": [
    "salary_df.isnull().sum()"
   ]
  },
  {
   "cell_type": "code",
   "execution_count": 38,
   "id": "61858c11",
   "metadata": {},
   "outputs": [],
   "source": [
    "salary_df.dropna(inplace=True)"
   ]
  },
  {
   "cell_type": "code",
   "execution_count": 39,
   "id": "eb57e794",
   "metadata": {},
   "outputs": [
    {
     "data": {
      "application/vnd.microsoft.datawrangler.viewer.v0+json": {
       "columns": [
        {
         "name": "index",
         "rawType": "object",
         "type": "string"
        },
        {
         "name": "0",
         "rawType": "int64",
         "type": "integer"
        }
       ],
       "ref": "03f356c7-5fd0-422e-bac7-72af6cb25d0c",
       "rows": [
        [
         "Age",
         "0"
        ],
        [
         "Gender",
         "0"
        ],
        [
         "Education Level",
         "0"
        ],
        [
         "Job Title",
         "0"
        ],
        [
         "Years of Experience",
         "0"
        ],
        [
         "Salary",
         "0"
        ]
       ],
       "shape": {
        "columns": 1,
        "rows": 6
       }
      },
      "text/plain": [
       "Age                    0\n",
       "Gender                 0\n",
       "Education Level        0\n",
       "Job Title              0\n",
       "Years of Experience    0\n",
       "Salary                 0\n",
       "dtype: int64"
      ]
     },
     "execution_count": 39,
     "metadata": {},
     "output_type": "execute_result"
    }
   ],
   "source": [
    "salary_df.isnull().sum()"
   ]
  },
  {
   "cell_type": "code",
   "execution_count": 40,
   "id": "c1d9f741",
   "metadata": {},
   "outputs": [
    {
     "data": {
      "text/plain": [
       "4911"
      ]
     },
     "execution_count": 40,
     "metadata": {},
     "output_type": "execute_result"
    }
   ],
   "source": [
    "salary_df.duplicated().sum()"
   ]
  },
  {
   "cell_type": "code",
   "execution_count": 41,
   "id": "03346629",
   "metadata": {},
   "outputs": [],
   "source": [
    "salary_df.drop_duplicates(inplace=True)"
   ]
  },
  {
   "cell_type": "code",
   "execution_count": 42,
   "id": "2b29397f",
   "metadata": {},
   "outputs": [
    {
     "data": {
      "text/plain": [
       "0"
      ]
     },
     "execution_count": 42,
     "metadata": {},
     "output_type": "execute_result"
    }
   ],
   "source": [
    "salary_df.duplicated().sum()"
   ]
  },
  {
   "cell_type": "code",
   "execution_count": 43,
   "id": "7b1c5087",
   "metadata": {},
   "outputs": [
    {
     "data": {
      "image/png": "[encoded data removed]",
      "text/plain": [
       "<Figure size 1200x600 with 1 Axes>"
      ]
     },
     "metadata": {},
     "output_type": "display_data"
    }
   ],
   "source": [
    "plt.figure(figsize=(12, 6))\n",
    "sns.histplot(salary_df['Salary'].dropna(), bins=50, kde=True)\n",
    "plt.title('Distribusi Gaji (Salary_Data.csv)')\n",
    "plt.xlabel('Gaji (Tahunan)')\n",
    "plt.ylabel('Frekuensi')\n",
    "plt.show()"
   ]
  },
  {
   "cell_type": "code",
   "execution_count": 44,
   "id": "0972d32f",
   "metadata": {},
   "outputs": [
    {
     "data": {
      "image/png": "[encoded data removed]",
      "text/plain": [
       "<Figure size 1200x600 with 1 Axes>"
      ]
     },
     "metadata": {},
     "output_type": "display_data"
    }
   ],
   "source": [
    "plt.figure(figsize=(12, 6))\n",
    "sns.scatterplot(data=salary_df, x='Years of Experience', y='Salary', alpha=0.6)\n",
    "plt.title('Hubungan Tahun Pengalaman dengan Gaji')\n",
    "plt.xlabel('Tahun Pengalaman')\n",
    "plt.ylabel('Gaji (Tahunan)')\n",
    "plt.show()"
   ]
  },
  {
   "cell_type": "code",
   "execution_count": 45,
   "id": "28758dbb",
   "metadata": {},
   "outputs": [
    {
     "name": "stderr",
     "output_type": "stream",
     "text": [
      "C:\\Users\\Tuan Muda\\AppData\\Local\\Temp\\ipykernel_6036\\392054549.py:3: FutureWarning: \n",
      "\n",
      "Passing `palette` without assigning `hue` is deprecated and will be removed in v0.14.0. Assign the `y` variable to `hue` and set `legend=False` for the same effect.\n",
      "\n",
      "  sns.barplot(x=top_15_jobs.values, y=top_15_jobs.index, palette='viridis')\n"
     ]
    },
    {
     "data": {
      "image/png": "[encoded data removed]",
      "text/plain": [
       "<Figure size 1200x800 with 1 Axes>"
      ]
     },
     "metadata": {},
     "output_type": "display_data"
    }
   ],
   "source": [
    "plt.figure(figsize=(12, 8))\n",
    "top_15_jobs = salary_df['Job Title'].value_counts().nlargest(15)\n",
    "sns.barplot(x=top_15_jobs.values, y=top_15_jobs.index, palette='viridis')\n",
    "plt.title('15 Jabatan Paling Umum dalam Dataset')\n",
    "plt.xlabel('Jumlah')\n",
    "plt.ylabel('Jabatan')\n",
    "plt.show()"
   ]
  },
  {
   "cell_type": "markdown",
   "id": "3c3c8371",
   "metadata": {},
   "source": [
    "Global Salary"
   ]
  },
  {
   "cell_type": "code",
   "execution_count": 46,
   "id": "23902f81",
   "metadata": {},
   "outputs": [
    {
     "data": {
      "application/vnd.microsoft.datawrangler.viewer.v0+json": {
       "columns": [
        {
         "name": "index",
         "rawType": "int64",
         "type": "integer"
        },
        {
         "name": "country_name",
         "rawType": "object",
         "type": "string"
        },
        {
         "name": "continent_name",
         "rawType": "object",
         "type": "string"
        },
        {
         "name": "wage_span",
         "rawType": "object",
         "type": "string"
        },
        {
         "name": "median_salary",
         "rawType": "float64",
         "type": "float"
        },
        {
         "name": "average_salary",
         "rawType": "float64",
         "type": "float"
        },
        {
         "name": "lowest_salary",
         "rawType": "float64",
         "type": "float"
        },
        {
         "name": "highest_salary",
         "rawType": "float64",
         "type": "float"
        }
       ],
       "ref": "acb60c97-11a0-42b0-a8dd-73d7f9db7643",
       "rows": [
        [
         "0",
         "Afghanistan",
         "Asia",
         "Monthly",
         "853.74",
         "1001.15",
         "252.53",
         "4460.97"
        ],
        [
         "1",
         "Aland Islands",
         "Europe",
         "Monthly",
         "3319.24",
         "3858.35",
         "972.52",
         "17124.74"
        ],
        [
         "2",
         "Albania",
         "Europe",
         "Monthly",
         "832.84",
         "956.92",
         "241.22",
         "4258.49"
        ],
        [
         "3",
         "Algeria",
         "Africa",
         "Monthly",
         "1148.84",
         "1308.81",
         "330.11",
         "5824.18"
        ],
        [
         "4",
         "American Samoa",
         "Oceania",
         "Monthly",
         "1390.0",
         "1570.0",
         "400.0",
         "6980.0"
        ]
       ],
       "shape": {
        "columns": 7,
        "rows": 5
       }
      },
      "text/html": [
       "<div>\n",
       "<style scoped>\n",
       "    .dataframe tbody tr th:only-of-type {\n",
       "        vertical-align: middle;\n",
       "    }\n",
       "\n",
       "    .dataframe tbody tr th {\n",
       "        vertical-align: top;\n",
       "    }\n",
       "\n",
       "    .dataframe thead th {\n",
       "        text-align: right;\n",
       "    }\n",
       "</style>\n",
       "<table border=\"1\" class=\"dataframe\">\n",
       "  <thead>\n",
       "    <tr style=\"text-align: right;\">\n",
       "      <th></th>\n",
       "      <th>country_name</th>\n",
       "      <th>continent_name</th>\n",
       "      <th>wage_span</th>\n",
       "      <th>median_salary</th>\n",
       "      <th>average_salary</th>\n",
       "      <th>lowest_salary</th>\n",
       "      <th>highest_salary</th>\n",
       "    </tr>\n",
       "  </thead>\n",
       "  <tbody>\n",
       "    <tr>\n",
       "      <th>0</th>\n",
       "      <td>Afghanistan</td>\n",
       "      <td>Asia</td>\n",
       "      <td>Monthly</td>\n",
       "      <td>853.74</td>\n",
       "      <td>1001.15</td>\n",
       "      <td>252.53</td>\n",
       "      <td>4460.97</td>\n",
       "    </tr>\n",
       "    <tr>\n",
       "      <th>1</th>\n",
       "      <td>Aland Islands</td>\n",
       "      <td>Europe</td>\n",
       "      <td>Monthly</td>\n",
       "      <td>3319.24</td>\n",
       "      <td>3858.35</td>\n",
       "      <td>972.52</td>\n",
       "      <td>17124.74</td>\n",
       "    </tr>\n",
       "    <tr>\n",
       "      <th>2</th>\n",
       "      <td>Albania</td>\n",
       "      <td>Europe</td>\n",
       "      <td>Monthly</td>\n",
       "      <td>832.84</td>\n",
       "      <td>956.92</td>\n",
       "      <td>241.22</td>\n",
       "      <td>4258.49</td>\n",
       "    </tr>\n",
       "    <tr>\n",
       "      <th>3</th>\n",
       "      <td>Algeria</td>\n",
       "      <td>Africa</td>\n",
       "      <td>Monthly</td>\n",
       "      <td>1148.84</td>\n",
       "      <td>1308.81</td>\n",
       "      <td>330.11</td>\n",
       "      <td>5824.18</td>\n",
       "    </tr>\n",
       "    <tr>\n",
       "      <th>4</th>\n",
       "      <td>American Samoa</td>\n",
       "      <td>Oceania</td>\n",
       "      <td>Monthly</td>\n",
       "      <td>1390.00</td>\n",
       "      <td>1570.00</td>\n",
       "      <td>400.00</td>\n",
       "      <td>6980.00</td>\n",
       "    </tr>\n",
       "  </tbody>\n",
       "</table>\n",
       "</div>"
      ],
      "text/plain": [
       "     country_name continent_name wage_span  median_salary  average_salary  \\\n",
       "0     Afghanistan           Asia   Monthly         853.74         1001.15   \n",
       "1   Aland Islands         Europe   Monthly        3319.24         3858.35   \n",
       "2         Albania         Europe   Monthly         832.84          956.92   \n",
       "3         Algeria         Africa   Monthly        1148.84         1308.81   \n",
       "4  American Samoa        Oceania   Monthly        1390.00         1570.00   \n",
       "\n",
       "   lowest_salary  highest_salary  \n",
       "0         252.53         4460.97  \n",
       "1         972.52        17124.74  \n",
       "2         241.22         4258.49  \n",
       "3         330.11         5824.18  \n",
       "4         400.00         6980.00  "
      ]
     },
     "execution_count": 46,
     "metadata": {},
     "output_type": "execute_result"
    }
   ],
   "source": [
    "global_df.head()"
   ]
  },
  {
   "cell_type": "code",
   "execution_count": 47,
   "id": "74dfc3d2",
   "metadata": {},
   "outputs": [
    {
     "name": "stdout",
     "output_type": "stream",
     "text": [
      "<class 'pandas.core.frame.DataFrame'>\n",
      "RangeIndex: 221 entries, 0 to 220\n",
      "Data columns (total 7 columns):\n",
      " #   Column          Non-Null Count  Dtype  \n",
      "---  ------          --------------  -----  \n",
      " 0   country_name    221 non-null    object \n",
      " 1   continent_name  221 non-null    object \n",
      " 2   wage_span       221 non-null    object \n",
      " 3   median_salary   221 non-null    float64\n",
      " 4   average_salary  221 non-null    float64\n",
      " 5   lowest_salary   221 non-null    float64\n",
      " 6   highest_salary  221 non-null    float64\n",
      "dtypes: float64(4), object(3)\n",
      "memory usage: 12.2+ KB\n"
     ]
    }
   ],
   "source": [
    "global_df.info()"
   ]
  },
  {
   "cell_type": "code",
   "execution_count": 48,
   "id": "b5b93e0e",
   "metadata": {},
   "outputs": [
    {
     "data": {
      "application/vnd.microsoft.datawrangler.viewer.v0+json": {
       "columns": [
        {
         "name": "index",
         "rawType": "object",
         "type": "string"
        },
        {
         "name": "median_salary",
         "rawType": "float64",
         "type": "float"
        },
        {
         "name": "average_salary",
         "rawType": "float64",
         "type": "float"
        },
        {
         "name": "lowest_salary",
         "rawType": "float64",
         "type": "float"
        },
        {
         "name": "highest_salary",
         "rawType": "float64",
         "type": "float"
        }
       ],
       "ref": "66830b71-dca5-4145-96cf-2d64e1472da6",
       "rows": [
        [
         "count",
         "221.0",
         "221.0",
         "221.0",
         "221.0"
        ],
        [
         "mean",
         "1762.6319056924888",
         "1982.3398124024434",
         "502.7832040290678",
         "8802.16561892896"
        ],
        [
         "std",
         "1634.708716279801",
         "1835.4291933056459",
         "470.0733280637575",
         "8140.210640653889"
        ],
        [
         "min",
         "0.26133504",
         "0.28552394",
         "0.072092424",
         "1.2711033"
        ],
        [
         "25%",
         "567.21",
         "651.0",
         "163.93",
         "2900.48"
        ],
        [
         "50%",
         "1227.46",
         "1344.23",
         "339.45",
         "5974.36"
        ],
        [
         "75%",
         "2389.01",
         "2740.0",
         "690.0",
         "12050.74"
        ],
        [
         "max",
         "9836.07",
         "11292.9",
         "2850.27",
         "50363.93"
        ]
       ],
       "shape": {
        "columns": 4,
        "rows": 8
       }
      },
      "text/html": [
       "<div>\n",
       "<style scoped>\n",
       "    .dataframe tbody tr th:only-of-type {\n",
       "        vertical-align: middle;\n",
       "    }\n",
       "\n",
       "    .dataframe tbody tr th {\n",
       "        vertical-align: top;\n",
       "    }\n",
       "\n",
       "    .dataframe thead th {\n",
       "        text-align: right;\n",
       "    }\n",
       "</style>\n",
       "<table border=\"1\" class=\"dataframe\">\n",
       "  <thead>\n",
       "    <tr style=\"text-align: right;\">\n",
       "      <th></th>\n",
       "      <th>median_salary</th>\n",
       "      <th>average_salary</th>\n",
       "      <th>lowest_salary</th>\n",
       "      <th>highest_salary</th>\n",
       "    </tr>\n",
       "  </thead>\n",
       "  <tbody>\n",
       "    <tr>\n",
       "      <th>count</th>\n",
       "      <td>221.000000</td>\n",
       "      <td>221.000000</td>\n",
       "      <td>221.000000</td>\n",
       "      <td>221.000000</td>\n",
       "    </tr>\n",
       "    <tr>\n",
       "      <th>mean</th>\n",
       "      <td>1762.631906</td>\n",
       "      <td>1982.339812</td>\n",
       "      <td>502.783204</td>\n",
       "      <td>8802.165619</td>\n",
       "    </tr>\n",
       "    <tr>\n",
       "      <th>std</th>\n",
       "      <td>1634.708716</td>\n",
       "      <td>1835.429193</td>\n",
       "      <td>470.073328</td>\n",
       "      <td>8140.210641</td>\n",
       "    </tr>\n",
       "    <tr>\n",
       "      <th>min</th>\n",
       "      <td>0.261335</td>\n",
       "      <td>0.285524</td>\n",
       "      <td>0.072092</td>\n",
       "      <td>1.271103</td>\n",
       "    </tr>\n",
       "    <tr>\n",
       "      <th>25%</th>\n",
       "      <td>567.210000</td>\n",
       "      <td>651.000000</td>\n",
       "      <td>163.930000</td>\n",
       "      <td>2900.480000</td>\n",
       "    </tr>\n",
       "    <tr>\n",
       "      <th>50%</th>\n",
       "      <td>1227.460000</td>\n",
       "      <td>1344.230000</td>\n",
       "      <td>339.450000</td>\n",
       "      <td>5974.360000</td>\n",
       "    </tr>\n",
       "    <tr>\n",
       "      <th>75%</th>\n",
       "      <td>2389.010000</td>\n",
       "      <td>2740.000000</td>\n",
       "      <td>690.000000</td>\n",
       "      <td>12050.740000</td>\n",
       "    </tr>\n",
       "    <tr>\n",
       "      <th>max</th>\n",
       "      <td>9836.070000</td>\n",
       "      <td>11292.900000</td>\n",
       "      <td>2850.270000</td>\n",
       "      <td>50363.930000</td>\n",
       "    </tr>\n",
       "  </tbody>\n",
       "</table>\n",
       "</div>"
      ],
      "text/plain": [
       "       median_salary  average_salary  lowest_salary  highest_salary\n",
       "count     221.000000      221.000000     221.000000      221.000000\n",
       "mean     1762.631906     1982.339812     502.783204     8802.165619\n",
       "std      1634.708716     1835.429193     470.073328     8140.210641\n",
       "min         0.261335        0.285524       0.072092        1.271103\n",
       "25%       567.210000      651.000000     163.930000     2900.480000\n",
       "50%      1227.460000     1344.230000     339.450000     5974.360000\n",
       "75%      2389.010000     2740.000000     690.000000    12050.740000\n",
       "max      9836.070000    11292.900000    2850.270000    50363.930000"
      ]
     },
     "execution_count": 48,
     "metadata": {},
     "output_type": "execute_result"
    }
   ],
   "source": [
    "global_df.describe()"
   ]
  },
  {
   "cell_type": "code",
   "execution_count": 49,
   "id": "2144028c",
   "metadata": {},
   "outputs": [
    {
     "data": {
      "application/vnd.microsoft.datawrangler.viewer.v0+json": {
       "columns": [
        {
         "name": "index",
         "rawType": "object",
         "type": "string"
        },
        {
         "name": "0",
         "rawType": "int64",
         "type": "integer"
        }
       ],
       "ref": "344b309e-b461-4dd9-9e47-96ca9275c328",
       "rows": [
        [
         "country_name",
         "0"
        ],
        [
         "continent_name",
         "0"
        ],
        [
         "wage_span",
         "0"
        ],
        [
         "median_salary",
         "0"
        ],
        [
         "average_salary",
         "0"
        ],
        [
         "lowest_salary",
         "0"
        ],
        [
         "highest_salary",
         "0"
        ]
       ],
       "shape": {
        "columns": 1,
        "rows": 7
       }
      },
      "text/plain": [
       "country_name      0\n",
       "continent_name    0\n",
       "wage_span         0\n",
       "median_salary     0\n",
       "average_salary    0\n",
       "lowest_salary     0\n",
       "highest_salary    0\n",
       "dtype: int64"
      ]
     },
     "execution_count": 49,
     "metadata": {},
     "output_type": "execute_result"
    }
   ],
   "source": [
    "global_df.isna().sum()"
   ]
  },
  {
   "cell_type": "code",
   "execution_count": 50,
   "id": "08fc5e00",
   "metadata": {},
   "outputs": [
    {
     "data": {
      "text/plain": [
       "0"
      ]
     },
     "execution_count": 50,
     "metadata": {},
     "output_type": "execute_result"
    }
   ],
   "source": [
    "global_df.duplicated().sum()"
   ]
  },
  {
   "cell_type": "code",
   "execution_count": 51,
   "id": "07e414c7",
   "metadata": {},
   "outputs": [
    {
     "name": "stderr",
     "output_type": "stream",
     "text": [
      "C:\\Users\\Tuan Muda\\AppData\\Local\\Temp\\ipykernel_6036\\1416188689.py:3: FutureWarning: \n",
      "\n",
      "Passing `palette` without assigning `hue` is deprecated and will be removed in v0.14.0. Assign the `y` variable to `hue` and set `legend=False` for the same effect.\n",
      "\n",
      "  sns.barplot(data=top_15_countries, x='average_salary', y='country_name', palette='plasma')\n"
     ]
    },
    {
     "data": {
      "image/png": "[encoded data removed]",
      "text/plain": [
       "<Figure size 1200x800 with 1 Axes>"
      ]
     },
     "metadata": {},
     "output_type": "display_data"
    }
   ],
   "source": [
    "plt.figure(figsize=(12, 8))\n",
    "top_15_countries = global_df.nlargest(15, 'average_salary')\n",
    "sns.barplot(data=top_15_countries, x='average_salary', y='country_name', palette='plasma')\n",
    "plt.title('15 Negara dengan Rata-rata Gaji Bulanan Tertinggi')\n",
    "plt.xlabel('Rata-rata Gaji (Bulanan USD)')\n",
    "plt.ylabel('Negara')\n",
    "plt.show()"
   ]
  },
  {
   "cell_type": "markdown",
   "id": "c9667dab",
   "metadata": {},
   "source": [
    "***Data Modeling***"
   ]
  },
  {
   "cell_type": "code",
   "execution_count": 52,
   "id": "4e07b16e",
   "metadata": {},
   "outputs": [],
   "source": [
    "df = salary_df.copy()"
   ]
  },
  {
   "cell_type": "code",
   "execution_count": 53,
   "id": "2156708a",
   "metadata": {},
   "outputs": [],
   "source": [
    "features = ['Age', 'Gender', 'Education Level', 'Job Title', 'Years of Experience']\n",
    "X = df[features]\n",
    "y = df['Salary']"
   ]
  },
  {
   "cell_type": "code",
   "execution_count": 54,
   "id": "4f59c753",
   "metadata": {},
   "outputs": [],
   "source": [
    "X_train, X_test, y_train, y_test = train_test_split(X, y, test_size=0.2, random_state=42)"
   ]
  },
  {
   "cell_type": "code",
   "execution_count": 55,
   "id": "b5706959",
   "metadata": {},
   "outputs": [],
   "source": [
    "categorical_features = ['Gender', 'Education Level', 'Job Title']\n",
    "numerical_features = ['Age', 'Years of Experience']\n",
    "\n",
    "preprocessor = ColumnTransformer(\n",
    "    transformers=[\n",
    "        ('num', 'passthrough', numerical_features),\n",
    "        ('cat', OneHotEncoder(handle_unknown='ignore'), categorical_features)\n",
    "    ])\n",
    "\n",
    "model_pipeline = Pipeline(steps=[\n",
    "    ('preprocessor', preprocessor),\n",
    "    ('regressor', RandomForestRegressor(n_estimators=100, random_state=42, n_jobs=-1))\n",
    "])"
   ]
  },
  {
   "cell_type": "code",
   "execution_count": 56,
   "id": "7ab31172",
   "metadata": {},
   "outputs": [
    {
     "data": {
      "text/html": [
       "<style>#sk-container-id-2 {\n",
       "  /* Definition of color scheme common for light and dark mode */\n",
       "  --sklearn-color-text: black;\n",
       "  --sklearn-color-line: gray;\n",
       "  /* Definition of color scheme for unfitted estimators */\n",
       "  --sklearn-color-unfitted-level-0: #fff5e6;\n",
       "  --sklearn-color-unfitted-level-1: #f6e4d2;\n",
       "  --sklearn-color-unfitted-level-2: #ffe0b3;\n",
       "  --sklearn-color-unfitted-level-3: chocolate;\n",
       "  /* Definition of color scheme for fitted estimators */\n",
       "  --sklearn-color-fitted-level-0: #f0f8ff;\n",
       "  --sklearn-color-fitted-level-1: #d4ebff;\n",
       "  --sklearn-color-fitted-level-2: #b3dbfd;\n",
       "  --sklearn-color-fitted-level-3: cornflowerblue;\n",
       "\n",
       "  /* Specific color for light theme */\n",
       "  --sklearn-color-text-on-default-background: var(--sg-text-color, var(--theme-code-foreground, var(--jp-content-font-color1, black)));\n",
       "  --sklearn-color-background: var(--sg-background-color, var(--theme-background, var(--jp-layout-color0, white)));\n",
       "  --sklearn-color-border-box: var(--sg-text-color, var(--theme-code-foreground, var(--jp-content-font-color1, black)));\n",
       "  --sklearn-color-icon: #696969;\n",
       "\n",
       "  @media (prefers-color-scheme: dark) {\n",
       "    /* Redefinition of color scheme for dark theme */\n",
       "    --sklearn-color-text-on-default-background: var(--sg-text-color, var(--theme-code-foreground, var(--jp-content-font-color1, white)));\n",
       "    --sklearn-color-background: var(--sg-background-color, var(--theme-background, var(--jp-layout-color0, #111)));\n",
       "    --sklearn-color-border-box: var(--sg-text-color, var(--theme-code-foreground, var(--jp-content-font-color1, white)));\n",
       "    --sklearn-color-icon: #878787;\n",
       "  }\n",
       "}\n",
       "\n",
       "#sk-container-id-2 {\n",
       "  color: var(--sklearn-color-text);\n",
       "}\n",
       "\n",
       "#sk-container-id-2 pre {\n",
       "  padding: 0;\n",
       "}\n",
       "\n",
       "#sk-container-id-2 input.sk-hidden--visually {\n",
       "  border: 0;\n",
       "  clip: rect(1px 1px 1px 1px);\n",
       "  clip: rect(1px, 1px, 1px, 1px);\n",
       "  height: 1px;\n",
       "  margin: -1px;\n",
       "  overflow: hidden;\n",
       "  padding: 0;\n",
       "  position: absolute;\n",
       "  width: 1px;\n",
       "}\n",
       "\n",
       "#sk-container-id-2 div.sk-dashed-wrapped {\n",
       "  border: 1px dashed var(--sklearn-color-line);\n",
       "  margin: 0 0.4em 0.5em 0.4em;\n",
       "  box-sizing: border-box;\n",
       "  padding-bottom: 0.4em;\n",
       "  background-color: var(--sklearn-color-background);\n",
       "}\n",
       "\n",
       "#sk-container-id-2 div.sk-container {\n",
       "  /* jupyter's `normalize.less` sets `[hidden] { display: none; }`\n",
       "     but bootstrap.min.css set `[hidden] { display: none !important; }`\n",
       "     so we also need the `!important` here to be able to override the\n",
       "     default hidden behavior on the sphinx rendered scikit-learn.org.\n",
       "     See: https://github.com/scikit-learn/scikit-learn/issues/21755 */\n",
       "  display: inline-block !important;\n",
       "  position: relative;\n",
       "}\n",
       "\n",
       "#sk-container-id-2 div.sk-text-repr-fallback {\n",
       "  display: none;\n",
       "}\n",
       "\n",
       "div.sk-parallel-item,\n",
       "div.sk-serial,\n",
       "div.sk-item {\n",
       "  /* draw centered vertical line to link estimators */\n",
       "  background-image: linear-gradient(var(--sklearn-color-text-on-default-background), var(--sklearn-color-text-on-default-background));\n",
       "  background-size: 2px 100%;\n",
       "  background-repeat: no-repeat;\n",
       "  background-position: center center;\n",
       "}\n",
       "\n",
       "/* Parallel-specific style estimator block */\n",
       "\n",
       "#sk-container-id-2 div.sk-parallel-item::after {\n",
       "  content: \"\";\n",
       "  width: 100%;\n",
       "  border-bottom: 2px solid var(--sklearn-color-text-on-default-background);\n",
       "  flex-grow: 1;\n",
       "}\n",
       "\n",
       "#sk-container-id-2 div.sk-parallel {\n",
       "  display: flex;\n",
       "  align-items: stretch;\n",
       "  justify-content: center;\n",
       "  background-color: var(--sklearn-color-background);\n",
       "  position: relative;\n",
       "}\n",
       "\n",
       "#sk-container-id-2 div.sk-parallel-item {\n",
       "  display: flex;\n",
       "  flex-direction: column;\n",
       "}\n",
       "\n",
       "#sk-container-id-2 div.sk-parallel-item:first-child::after {\n",
       "  align-self: flex-end;\n",
       "  width: 50%;\n",
       "}\n",
       "\n",
       "#sk-container-id-2 div.sk-parallel-item:last-child::after {\n",
       "  align-self: flex-start;\n",
       "  width: 50%;\n",
       "}\n",
       "\n",
       "#sk-container-id-2 div.sk-parallel-item:only-child::after {\n",
       "  width: 0;\n",
       "}\n",
       "\n",
       "/* Serial-specific style estimator block */\n",
       "\n",
       "#sk-container-id-2 div.sk-serial {\n",
       "  display: flex;\n",
       "  flex-direction: column;\n",
       "  align-items: center;\n",
       "  background-color: var(--sklearn-color-background);\n",
       "  padding-right: 1em;\n",
       "  padding-left: 1em;\n",
       "}\n",
       "\n",
       "\n",
       "/* Toggleable style: style used for estimator/Pipeline/ColumnTransformer box that is\n",
       "clickable and can be expanded/collapsed.\n",
       "- Pipeline and ColumnTransformer use this feature and define the default style\n",
       "- Estimators will overwrite some part of the style using the `sk-estimator` class\n",
       "*/\n",
       "\n",
       "/* Pipeline and ColumnTransformer style (default) */\n",
       "\n",
       "#sk-container-id-2 div.sk-toggleable {\n",
       "  /* Default theme specific background. It is overwritten whether we have a\n",
       "  specific estimator or a Pipeline/ColumnTransformer */\n",
       "  background-color: var(--sklearn-color-background);\n",
       "}\n",
       "\n",
       "/* Toggleable label */\n",
       "#sk-container-id-2 label.sk-toggleable__label {\n",
       "  cursor: pointer;\n",
       "  display: block;\n",
       "  width: 100%;\n",
       "  margin-bottom: 0;\n",
       "  padding: 0.5em;\n",
       "  box-sizing: border-box;\n",
       "  text-align: center;\n",
       "}\n",
       "\n",
       "#sk-container-id-2 label.sk-toggleable__label-arrow:before {\n",
       "  /* Arrow on the left of the label */\n",
       "  content: \"▸\";\n",
       "  float: left;\n",
       "  margin-right: 0.25em;\n",
       "  color: var(--sklearn-color-icon);\n",
       "}\n",
       "\n",
       "#sk-container-id-2 label.sk-toggleable__label-arrow:hover:before {\n",
       "  color: var(--sklearn-color-text);\n",
       "}\n",
       "\n",
       "/* Toggleable content - dropdown */\n",
       "\n",
       "#sk-container-id-2 div.sk-toggleable__content {\n",
       "  max-height: 0;\n",
       "  max-width: 0;\n",
       "  overflow: hidden;\n",
       "  text-align: left;\n",
       "  /* unfitted */\n",
       "  background-color: var(--sklearn-color-unfitted-level-0);\n",
       "}\n",
       "\n",
       "#sk-container-id-2 div.sk-toggleable__content.fitted {\n",
       "  /* fitted */\n",
       "  background-color: var(--sklearn-color-fitted-level-0);\n",
       "}\n",
       "\n",
       "#sk-container-id-2 div.sk-toggleable__content pre {\n",
       "  margin: 0.2em;\n",
       "  border-radius: 0.25em;\n",
       "  color: var(--sklearn-color-text);\n",
       "  /* unfitted */\n",
       "  background-color: var(--sklearn-color-unfitted-level-0);\n",
       "}\n",
       "\n",
       "#sk-container-id-2 div.sk-toggleable__content.fitted pre {\n",
       "  /* unfitted */\n",
       "  background-color: var(--sklearn-color-fitted-level-0);\n",
       "}\n",
       "\n",
       "#sk-container-id-2 input.sk-toggleable__control:checked~div.sk-toggleable__content {\n",
       "  /* Expand drop-down */\n",
       "  max-height: 200px;\n",
       "  max-width: 100%;\n",
       "  overflow: auto;\n",
       "}\n",
       "\n",
       "#sk-container-id-2 input.sk-toggleable__control:checked~label.sk-toggleable__label-arrow:before {\n",
       "  content: \"▾\";\n",
       "}\n",
       "\n",
       "/* Pipeline/ColumnTransformer-specific style */\n",
       "\n",
       "#sk-container-id-2 div.sk-label input.sk-toggleable__control:checked~label.sk-toggleable__label {\n",
       "  color: var(--sklearn-color-text);\n",
       "  background-color: var(--sklearn-color-unfitted-level-2);\n",
       "}\n",
       "\n",
       "#sk-container-id-2 div.sk-label.fitted input.sk-toggleable__control:checked~label.sk-toggleable__label {\n",
       "  background-color: var(--sklearn-color-fitted-level-2);\n",
       "}\n",
       "\n",
       "/* Estimator-specific style */\n",
       "\n",
       "/* Colorize estimator box */\n",
       "#sk-container-id-2 div.sk-estimator input.sk-toggleable__control:checked~label.sk-toggleable__label {\n",
       "  /* unfitted */\n",
       "  background-color: var(--sklearn-color-unfitted-level-2);\n",
       "}\n",
       "\n",
       "#sk-container-id-2 div.sk-estimator.fitted input.sk-toggleable__control:checked~label.sk-toggleable__label {\n",
       "  /* fitted */\n",
       "  background-color: var(--sklearn-color-fitted-level-2);\n",
       "}\n",
       "\n",
       "#sk-container-id-2 div.sk-label label.sk-toggleable__label,\n",
       "#sk-container-id-2 div.sk-label label {\n",
       "  /* The background is the default theme color */\n",
       "  color: var(--sklearn-color-text-on-default-background);\n",
       "}\n",
       "\n",
       "/* On hover, darken the color of the background */\n",
       "#sk-container-id-2 div.sk-label:hover label.sk-toggleable__label {\n",
       "  color: var(--sklearn-color-text);\n",
       "  background-color: var(--sklearn-color-unfitted-level-2);\n",
       "}\n",
       "\n",
       "/* Label box, darken color on hover, fitted */\n",
       "#sk-container-id-2 div.sk-label.fitted:hover label.sk-toggleable__label.fitted {\n",
       "  color: var(--sklearn-color-text);\n",
       "  background-color: var(--sklearn-color-fitted-level-2);\n",
       "}\n",
       "\n",
       "/* Estimator label */\n",
       "\n",
       "#sk-container-id-2 div.sk-label label {\n",
       "  font-family: monospace;\n",
       "  font-weight: bold;\n",
       "  display: inline-block;\n",
       "  line-height: 1.2em;\n",
       "}\n",
       "\n",
       "#sk-container-id-2 div.sk-label-container {\n",
       "  text-align: center;\n",
       "}\n",
       "\n",
       "/* Estimator-specific */\n",
       "#sk-container-id-2 div.sk-estimator {\n",
       "  font-family: monospace;\n",
       "  border: 1px dotted var(--sklearn-color-border-box);\n",
       "  border-radius: 0.25em;\n",
       "  box-sizing: border-box;\n",
       "  margin-bottom: 0.5em;\n",
       "  /* unfitted */\n",
       "  background-color: var(--sklearn-color-unfitted-level-0);\n",
       "}\n",
       "\n",
       "#sk-container-id-2 div.sk-estimator.fitted {\n",
       "  /* fitted */\n",
       "  background-color: var(--sklearn-color-fitted-level-0);\n",
       "}\n",
       "\n",
       "/* on hover */\n",
       "#sk-container-id-2 div.sk-estimator:hover {\n",
       "  /* unfitted */\n",
       "  background-color: var(--sklearn-color-unfitted-level-2);\n",
       "}\n",
       "\n",
       "#sk-container-id-2 div.sk-estimator.fitted:hover {\n",
       "  /* fitted */\n",
       "  background-color: var(--sklearn-color-fitted-level-2);\n",
       "}\n",
       "\n",
       "/* Specification for estimator info (e.g. \"i\" and \"?\") */\n",
       "\n",
       "/* Common style for \"i\" and \"?\" */\n",
       "\n",
       ".sk-estimator-doc-link,\n",
       "a:link.sk-estimator-doc-link,\n",
       "a:visited.sk-estimator-doc-link {\n",
       "  float: right;\n",
       "  font-size: smaller;\n",
       "  line-height: 1em;\n",
       "  font-family: monospace;\n",
       "  background-color: var(--sklearn-color-background);\n",
       "  border-radius: 1em;\n",
       "  height: 1em;\n",
       "  width: 1em;\n",
       "  text-decoration: none !important;\n",
       "  margin-left: 1ex;\n",
       "  /* unfitted */\n",
       "  border: var(--sklearn-color-unfitted-level-1) 1pt solid;\n",
       "  color: var(--sklearn-color-unfitted-level-1);\n",
       "}\n",
       "\n",
       ".sk-estimator-doc-link.fitted,\n",
       "a:link.sk-estimator-doc-link.fitted,\n",
       "a:visited.sk-estimator-doc-link.fitted {\n",
       "  /* fitted */\n",
       "  border: var(--sklearn-color-fitted-level-1) 1pt solid;\n",
       "  color: var(--sklearn-color-fitted-level-1);\n",
       "}\n",
       "\n",
       "/* On hover */\n",
       "div.sk-estimator:hover .sk-estimator-doc-link:hover,\n",
       ".sk-estimator-doc-link:hover,\n",
       "div.sk-label-container:hover .sk-estimator-doc-link:hover,\n",
       ".sk-estimator-doc-link:hover {\n",
       "  /* unfitted */\n",
       "  background-color: var(--sklearn-color-unfitted-level-3);\n",
       "  color: var(--sklearn-color-background);\n",
       "  text-decoration: none;\n",
       "}\n",
       "\n",
       "div.sk-estimator.fitted:hover .sk-estimator-doc-link.fitted:hover,\n",
       ".sk-estimator-doc-link.fitted:hover,\n",
       "div.sk-label-container:hover .sk-estimator-doc-link.fitted:hover,\n",
       ".sk-estimator-doc-link.fitted:hover {\n",
       "  /* fitted */\n",
       "  background-color: var(--sklearn-color-fitted-level-3);\n",
       "  color: var(--sklearn-color-background);\n",
       "  text-decoration: none;\n",
       "}\n",
       "\n",
       "/* Span, style for the box shown on hovering the info icon */\n",
       ".sk-estimator-doc-link span {\n",
       "  display: none;\n",
       "  z-index: 9999;\n",
       "  position: relative;\n",
       "  font-weight: normal;\n",
       "  right: .2ex;\n",
       "  padding: .5ex;\n",
       "  margin: .5ex;\n",
       "  width: min-content;\n",
       "  min-width: 20ex;\n",
       "  max-width: 50ex;\n",
       "  color: var(--sklearn-color-text);\n",
       "  box-shadow: 2pt 2pt 4pt #999;\n",
       "  /* unfitted */\n",
       "  background: var(--sklearn-color-unfitted-level-0);\n",
       "  border: .5pt solid var(--sklearn-color-unfitted-level-3);\n",
       "}\n",
       "\n",
       ".sk-estimator-doc-link.fitted span {\n",
       "  /* fitted */\n",
       "  background: var(--sklearn-color-fitted-level-0);\n",
       "  border: var(--sklearn-color-fitted-level-3);\n",
       "}\n",
       "\n",
       ".sk-estimator-doc-link:hover span {\n",
       "  display: block;\n",
       "}\n",
       "\n",
       "/* \"?\"-specific style due to the `<a>` HTML tag */\n",
       "\n",
       "#sk-container-id-2 a.estimator_doc_link {\n",
       "  float: right;\n",
       "  font-size: 1rem;\n",
       "  line-height: 1em;\n",
       "  font-family: monospace;\n",
       "  background-color: var(--sklearn-color-background);\n",
       "  border-radius: 1rem;\n",
       "  height: 1rem;\n",
       "  width: 1rem;\n",
       "  text-decoration: none;\n",
       "  /* unfitted */\n",
       "  color: var(--sklearn-color-unfitted-level-1);\n",
       "  border: var(--sklearn-color-unfitted-level-1) 1pt solid;\n",
       "}\n",
       "\n",
       "#sk-container-id-2 a.estimator_doc_link.fitted {\n",
       "  /* fitted */\n",
       "  border: var(--sklearn-color-fitted-level-1) 1pt solid;\n",
       "  color: var(--sklearn-color-fitted-level-1);\n",
       "}\n",
       "\n",
       "/* On hover */\n",
       "#sk-container-id-2 a.estimator_doc_link:hover {\n",
       "  /* unfitted */\n",
       "  background-color: var(--sklearn-color-unfitted-level-3);\n",
       "  color: var(--sklearn-color-background);\n",
       "  text-decoration: none;\n",
       "}\n",
       "\n",
       "#sk-container-id-2 a.estimator_doc_link.fitted:hover {\n",
       "  /* fitted */\n",
       "  background-color: var(--sklearn-color-fitted-level-3);\n",
       "}\n",
       "</style><div id=\"sk-container-id-2\" class=\"sk-top-container\"><div class=\"sk-text-repr-fallback\"><pre>Pipeline(steps=[(&#x27;preprocessor&#x27;,\n",
       "                 ColumnTransformer(transformers=[(&#x27;num&#x27;, &#x27;passthrough&#x27;,\n",
       "                                                  [&#x27;Age&#x27;,\n",
       "                                                   &#x27;Years of Experience&#x27;]),\n",
       "                                                 (&#x27;cat&#x27;,\n",
       "                                                  OneHotEncoder(handle_unknown=&#x27;ignore&#x27;),\n",
       "                                                  [&#x27;Gender&#x27;, &#x27;Education Level&#x27;,\n",
       "                                                   &#x27;Job Title&#x27;])])),\n",
       "                (&#x27;regressor&#x27;,\n",
       "                 RandomForestRegressor(n_jobs=-1, random_state=42))])</pre><b>In a Jupyter environment, please rerun this cell to show the HTML representation or trust the notebook. <br />On GitHub, the HTML representation is unable to render, please try loading this page with nbviewer.org.</b></div><div class=\"sk-container\" hidden><div class=\"sk-item sk-dashed-wrapped\"><div class=\"sk-label-container\"><div class=\"sk-label fitted sk-toggleable\"><input class=\"sk-toggleable__control sk-hidden--visually\" id=\"sk-estimator-id-8\" type=\"checkbox\" ><label for=\"sk-estimator-id-8\" class=\"sk-toggleable__label fitted sk-toggleable__label-arrow fitted\">&nbsp;&nbsp;Pipeline<a class=\"sk-estimator-doc-link fitted\" rel=\"noreferrer\" target=\"_blank\" href=\"https://scikit-learn.org/1.5/modules/generated/sklearn.pipeline.Pipeline.html\">?<span>Documentation for Pipeline</span></a><span class=\"sk-estimator-doc-link fitted\">i<span>Fitted</span></span></label><div class=\"sk-toggleable__content fitted\"><pre>Pipeline(steps=[(&#x27;preprocessor&#x27;,\n",
       "                 ColumnTransformer(transformers=[(&#x27;num&#x27;, &#x27;passthrough&#x27;,\n",
       "                                                  [&#x27;Age&#x27;,\n",
       "                                                   &#x27;Years of Experience&#x27;]),\n",
       "                                                 (&#x27;cat&#x27;,\n",
       "                                                  OneHotEncoder(handle_unknown=&#x27;ignore&#x27;),\n",
       "                                                  [&#x27;Gender&#x27;, &#x27;Education Level&#x27;,\n",
       "                                                   &#x27;Job Title&#x27;])])),\n",
       "                (&#x27;regressor&#x27;,\n",
       "                 RandomForestRegressor(n_jobs=-1, random_state=42))])</pre></div> </div></div><div class=\"sk-serial\"><div class=\"sk-item sk-dashed-wrapped\"><div class=\"sk-label-container\"><div class=\"sk-label fitted sk-toggleable\"><input class=\"sk-toggleable__control sk-hidden--visually\" id=\"sk-estimator-id-9\" type=\"checkbox\" ><label for=\"sk-estimator-id-9\" class=\"sk-toggleable__label fitted sk-toggleable__label-arrow fitted\">&nbsp;preprocessor: ColumnTransformer<a class=\"sk-estimator-doc-link fitted\" rel=\"noreferrer\" target=\"_blank\" href=\"https://scikit-learn.org/1.5/modules/generated/sklearn.compose.ColumnTransformer.html\">?<span>Documentation for preprocessor: ColumnTransformer</span></a></label><div class=\"sk-toggleable__content fitted\"><pre>ColumnTransformer(transformers=[(&#x27;num&#x27;, &#x27;passthrough&#x27;,\n",
       "                                 [&#x27;Age&#x27;, &#x27;Years of Experience&#x27;]),\n",
       "                                (&#x27;cat&#x27;, OneHotEncoder(handle_unknown=&#x27;ignore&#x27;),\n",
       "                                 [&#x27;Gender&#x27;, &#x27;Education Level&#x27;, &#x27;Job Title&#x27;])])</pre></div> </div></div><div class=\"sk-parallel\"><div class=\"sk-parallel-item\"><div class=\"sk-item\"><div class=\"sk-label-container\"><div class=\"sk-label fitted sk-toggleable\"><input class=\"sk-toggleable__control sk-hidden--visually\" id=\"sk-estimator-id-10\" type=\"checkbox\" ><label for=\"sk-estimator-id-10\" class=\"sk-toggleable__label fitted sk-toggleable__label-arrow fitted\">num</label><div class=\"sk-toggleable__content fitted\"><pre>[&#x27;Age&#x27;, &#x27;Years of Experience&#x27;]</pre></div> </div></div><div class=\"sk-serial\"><div class=\"sk-item\"><div class=\"sk-estimator fitted sk-toggleable\"><input class=\"sk-toggleable__control sk-hidden--visually\" id=\"sk-estimator-id-11\" type=\"checkbox\" ><label for=\"sk-estimator-id-11\" class=\"sk-toggleable__label fitted sk-toggleable__label-arrow fitted\">passthrough</label><div class=\"sk-toggleable__content fitted\"><pre>passthrough</pre></div> </div></div></div></div></div><div class=\"sk-parallel-item\"><div class=\"sk-item\"><div class=\"sk-label-container\"><div class=\"sk-label fitted sk-toggleable\"><input class=\"sk-toggleable__control sk-hidden--visually\" id=\"sk-estimator-id-12\" type=\"checkbox\" ><label for=\"sk-estimator-id-12\" class=\"sk-toggleable__label fitted sk-toggleable__label-arrow fitted\">cat</label><div class=\"sk-toggleable__content fitted\"><pre>[&#x27;Gender&#x27;, &#x27;Education Level&#x27;, &#x27;Job Title&#x27;]</pre></div> </div></div><div class=\"sk-serial\"><div class=\"sk-item\"><div class=\"sk-estimator fitted sk-toggleable\"><input class=\"sk-toggleable__control sk-hidden--visually\" id=\"sk-estimator-id-13\" type=\"checkbox\" ><label for=\"sk-estimator-id-13\" class=\"sk-toggleable__label fitted sk-toggleable__label-arrow fitted\">&nbsp;OneHotEncoder<a class=\"sk-estimator-doc-link fitted\" rel=\"noreferrer\" target=\"_blank\" href=\"https://scikit-learn.org/1.5/modules/generated/sklearn.preprocessing.OneHotEncoder.html\">?<span>Documentation for OneHotEncoder</span></a></label><div class=\"sk-toggleable__content fitted\"><pre>OneHotEncoder(handle_unknown=&#x27;ignore&#x27;)</pre></div> </div></div></div></div></div></div></div><div class=\"sk-item\"><div class=\"sk-estimator fitted sk-toggleable\"><input class=\"sk-toggleable__control sk-hidden--visually\" id=\"sk-estimator-id-14\" type=\"checkbox\" ><label for=\"sk-estimator-id-14\" class=\"sk-toggleable__label fitted sk-toggleable__label-arrow fitted\">&nbsp;RandomForestRegressor<a class=\"sk-estimator-doc-link fitted\" rel=\"noreferrer\" target=\"_blank\" href=\"https://scikit-learn.org/1.5/modules/generated/sklearn.ensemble.RandomForestRegressor.html\">?<span>Documentation for RandomForestRegressor</span></a></label><div class=\"sk-toggleable__content fitted\"><pre>RandomForestRegressor(n_jobs=-1, random_state=42)</pre></div> </div></div></div></div></div></div>"
      ],
      "text/plain": [
       "Pipeline(steps=[('preprocessor',\n",
       "                 ColumnTransformer(transformers=[('num', 'passthrough',\n",
       "                                                  ['Age',\n",
       "                                                   'Years of Experience']),\n",
       "                                                 ('cat',\n",
       "                                                  OneHotEncoder(handle_unknown='ignore'),\n",
       "                                                  ['Gender', 'Education Level',\n",
       "                                                   'Job Title'])])),\n",
       "                ('regressor',\n",
       "                 RandomForestRegressor(n_jobs=-1, random_state=42))])"
      ]
     },
     "execution_count": 56,
     "metadata": {},
     "output_type": "execute_result"
    }
   ],
   "source": [
    "model_pipeline.fit(X_train, y_train)"
   ]
  },
  {
   "cell_type": "markdown",
   "id": "1501b756",
   "metadata": {},
   "source": [
    "***Evaluasi Model***"
   ]
  },
  {
   "cell_type": "code",
   "execution_count": 57,
   "id": "c4c51d51",
   "metadata": {},
   "outputs": [],
   "source": [
    "y_pred = model_pipeline.predict(X_test)"
   ]
  },
  {
   "cell_type": "code",
   "execution_count": 58,
   "id": "31397d37",
   "metadata": {},
   "outputs": [],
   "source": [
    "mae = mean_absolute_error(y_test, y_pred)\n",
    "r2 = r2_score(y_test, y_pred)"
   ]
  },
  {
   "cell_type": "code",
   "execution_count": 59,
   "id": "19a7a03f",
   "metadata": {},
   "outputs": [
    {
     "name": "stdout",
     "output_type": "stream",
     "text": [
      "Mean Absolute Error (MAE): $9,754.22\n",
      "Artinya, secara rata-rata, prediksi model meleset sekitar $9,754.22 dari gaji sebenarnya.\n",
      "------------------------------------------------------------------------------------------\n",
      "R-squared (R²): 0.9148\n",
      "Artinya, model dapat menjelaskan sekitar 91.5% dari variasi data gaji.\n"
     ]
    }
   ],
   "source": [
    "print(f\"Mean Absolute Error (MAE): ${mae:,.2f}\")\n",
    "print(f\"Artinya, secara rata-rata, prediksi model meleset sekitar ${mae:,.2f} dari gaji sebenarnya.\")\n",
    "print(\"------------------------------------------------------------------------------------------\" )\n",
    "print(f\"R-squared (R²): {r2:.4f}\")\n",
    "print(f\"Artinya, model dapat menjelaskan sekitar {r2:.1%} dari variasi data gaji.\")\n"
   ]
  },
  {
   "cell_type": "code",
   "execution_count": 60,
   "id": "22dd3fcd",
   "metadata": {},
   "outputs": [
    {
     "data": {
      "text/plain": [
       "['salary_model.pkl']"
      ]
     },
     "execution_count": 60,
     "metadata": {},
     "output_type": "execute_result"
    }
   ],
   "source": [
    "joblib.dump(model_pipeline, 'salary_model.pkl')"
   ]
  },
  {
   "cell_type": "markdown",
   "id": "fa7b5daa",
   "metadata": {},
   "source": [
    "***Deployment***"
   ]
  },
  {
   "cell_type": "code",
   "execution_count": 78,
   "id": "f95d6c08",
   "metadata": {},
   "outputs": [
    {
     "name": "stdout",
     "output_type": "stream",
     "text": [
      "Overwriting app.py\n"
     ]
    }
   ],
   "source": [
    "%%writefile app.py\n",
    "import streamlit as st\n",
    "import pandas as pd\n",
    "import joblib\n",
    "import google.generativeai as genai\n",
    "import os\n",
    "from dotenv import load_dotenv\n",
    "import plotly.express as px\n",
    "import networkx as nx\n",
    "from fpdf import FPDF\n",
    "\n",
    "st.set_page_config(layout=\"wide\", page_title=\"Career Navigator AI\")\n",
    "load_dotenv()\n",
    "\n",
    "@st.cache_data\n",
    "def load_all_data():\n",
    "    salary_df_raw = pd.read_csv('Salary_Data.csv')\n",
    "    salary_df_processed = salary_df_raw.drop_duplicates().copy()\n",
    "    salary_df_processed.dropna(subset=['Salary', 'Job Title', 'Years of Experience', 'Gender', 'Age', 'Education Level'], inplace=True)\n",
    "    \n",
    "    global_df = pd.read_csv('global_salary.csv')\n",
    "    global_df['yearly_average_salary'] = global_df['average_salary'] * 12\n",
    "    \n",
    "    unique_job_titles = sorted(salary_df_processed['Job Title'].unique())\n",
    "    unique_countries = sorted(global_df['country_name'].unique())\n",
    "    unique_education = sorted(salary_df_processed['Education Level'].unique())\n",
    "    unique_gender = sorted(salary_df_processed['Gender'].unique())\n",
    "    \n",
    "    return salary_df_processed, global_df, unique_job_titles, unique_countries, unique_education, unique_gender\n",
    "\n",
    "@st.cache_resource\n",
    "def load_model():\n",
    "    try:\n",
    "        model = joblib.load('salary_model.pkl')\n",
    "    except FileNotFoundError:\n",
    "        st.error(\"File model 'salary_model.pkl' tidak ditemukan. Pastikan Anda sudah menjalankan skrip pelatihan model.\")\n",
    "        model = None\n",
    "    return model\n",
    "\n",
    "@st.cache_resource\n",
    "def build_career_graph(_df):\n",
    "    G = nx.DiGraph()\n",
    "    job_data = _df.groupby('Job Title').agg(avg_salary=('Salary', 'mean')).reset_index()\n",
    "\n",
    "    for _, row in job_data.iterrows():\n",
    "        G.add_node(row['Job Title'], salary=row['avg_salary'])\n",
    "\n",
    "    titles = job_data['Job Title'].tolist()\n",
    "    for u in titles:\n",
    "        for v in titles:\n",
    "            if u == v: continue\n",
    "            \n",
    "            is_promotion = (u.replace(\"Junior \", \"\") == v) or (u == v.replace(\"Senior \", \"\")) or \\\n",
    "                           (u.replace(\"Jr. \", \"\") == v) or (u == v.replace(\"Sr. \", \"\"))\n",
    "            if is_promotion:\n",
    "                salary_gain = G.nodes[v]['salary'] - G.nodes[u]['salary']\n",
    "                if salary_gain > 0:\n",
    "                    G.add_edge(u, v, weight=salary_gain, reason=\"Promosi Hirarkis\")\n",
    "            \n",
    "            u_base = u.replace(\"Senior \", \"\").replace(\"Junior \", \"\").replace(\"Manager\", \"\").strip()\n",
    "            v_base = v.replace(\"Senior \", \"\").replace(\"Junior \", \"\").replace(\"Manager\", \"\").strip()\n",
    "            if \"Analyst\" in u_base and \"Scientist\" in v_base or \"Scientist\" in u_base and \"Engineer\" in v_base:\n",
    "                salary_gain = G.nodes[v]['salary'] - G.nodes[u]['salary']\n",
    "                if salary_gain > 0:\n",
    "                    G.add_edge(u, v, weight=salary_gain, reason=\"Transisi Keahlian\")\n",
    "    return G\n",
    "\n",
    "def find_best_career_path(graph, start_node, steps=3):\n",
    "    if start_node not in graph: return None, 0\n",
    "    path, total_gain, current_node = [start_node], 0, start_node\n",
    "    for _ in range(steps):\n",
    "        neighbors = list(graph.successors(current_node))\n",
    "        if not neighbors: break\n",
    "        positive_gain_neighbors = {n: graph.edges[current_node, n]['weight'] for n in neighbors if graph.edges[current_node, n]['weight'] > 0}\n",
    "        if not positive_gain_neighbors: break\n",
    "        best_next_node = max(positive_gain_neighbors, key=positive_gain_neighbors.get)\n",
    "        gain = positive_gain_neighbors[best_next_node]\n",
    "        total_gain += gain\n",
    "        path.append(best_next_node)\n",
    "        current_node = best_next_node\n",
    "    return path, total_gain\n",
    "\n",
    "class PDF(FPDF):\n",
    "    def header(self):\n",
    "        self.set_font('Arial', 'B', 15)\n",
    "        self.cell(0, 10, 'Laporan Analisis Karier - Career Navigator AI', 0, 1, 'C')\n",
    "        self.ln(5)\n",
    "\n",
    "    def chapter_title(self, title):\n",
    "        self.set_font('Arial', 'B', 12)\n",
    "        self.cell(0, 10, title, 0, 1, 'L')\n",
    "        self.ln(2)\n",
    "\n",
    "    def chapter_body(self, body):\n",
    "        self.set_font('Arial', '', 11)\n",
    "        self.multi_cell(0, 5, body)\n",
    "        self.ln()\n",
    "        \n",
    "    def add_table(self, header, data):\n",
    "        self.set_font('Arial', 'B', 10)\n",
    "        col_width = self.w / 3.5 \n",
    "        for h in header:\n",
    "            self.cell(col_width, 7, h, 1, 0, 'C')\n",
    "        self.ln()\n",
    "        self.set_font('Arial', '', 10)\n",
    "        for row in data:\n",
    "            for item in row:\n",
    "                self.cell(col_width, 6, item, 1)\n",
    "            self.ln()\n",
    "        self.ln()\n",
    "\n",
    "def generate_pdf_report(report_data):\n",
    "    pdf = PDF()\n",
    "    pdf.add_page()\n",
    "    \n",
    "    pdf.chapter_title('Ringkasan Profil')\n",
    "    profile_body = (\n",
    "        f\"Jabatan: {report_data['job_title']}\\n\"\n",
    "        f\"Pengalaman: {report_data['experience']} tahun\\n\"\n",
    "        f\"Pendidikan: {report_data['education']}\\n\"\n",
    "        f\"Usia: {report_data['age']} tahun\\n\"\n",
    "        f\"Jenis Kelamin: {report_data['gender']}\\n\"\n",
    "        f\"Lokasi: {report_data['country']}\"\n",
    "    )\n",
    "    pdf.chapter_body(profile_body)\n",
    "\n",
    "    pdf.chapter_title(f\"Analisis Komparasi Gaji (Prediksi: ${report_data['predicted_salary']:,.0f} USD)\")\n",
    "    table_header = ['Kategori Perbandingan', 'Rata-rata Gaji', 'Perbandingan vs Anda']\n",
    "    table_data = [\n",
    "        ['Peer Group Serupa', f\"${report_data['peer_group_avg_salary']:,.0f}\", f\"{report_data['peer_vs_you']:.1%}\"],\n",
    "        ['Rata-rata Nasional', f\"${report_data['national_avg_salary']:,.0f}\", f\"{report_data['national_vs_you']:.1%}\"]\n",
    "    ]\n",
    "    pdf.add_table(table_header, table_data)\n",
    "\n",
    "    if report_data['path'] and len(report_data['path']) > 1:\n",
    "        pdf.chapter_title('Simulasi Jalur Karier Optimal')\n",
    "        pdf.chapter_body(f\"Jalur: {' -> '.join(report_data['path'])}\\nPotensi Kenaikan Gaji: ~${report_data['gain']:,.0f} USD\")\n",
    "\n",
    "    if report_data['ai_response']:\n",
    "        pdf.chapter_title('Rekomendasi Cerdas dari Navigator AI')\n",
    "        ai_response_encoded = report_data['ai_response'].encode('latin-1', 'replace').decode('latin-1')\n",
    "        pdf.chapter_body(ai_response_encoded)\n",
    "        \n",
    "    return bytes(pdf.output(dest='S'))\n",
    "\n",
    "\n",
    "salary_df, global_df, unique_job_titles, unique_countries, unique_education, unique_gender = load_all_data()\n",
    "model = load_model()\n",
    "if salary_df is not None:\n",
    "    career_graph = build_career_graph(salary_df)\n",
    "\n",
    "st.title(\"🛰️ Career Navigator AI\")\n",
    "st.markdown(\"Platform Analisis Karier Komprehensif dengan Perbandingan Peer-Group, Simulasi Jalur Karier, dan Wawasan Global.\")\n",
    "\n",
    "tab1, tab2 = st.tabs([\" 🧭 Navigator Karier Personal \", \" 🌏 Wawasan Global \"])\n",
    "\n",
    "with tab1:\n",
    "    with st.sidebar:\n",
    "        st.header(\"👤 Profil Profesional Anda\")\n",
    "        age = st.number_input('Usia Anda', min_value=18, max_value=70, value=30, step=1)\n",
    "        gender = st.selectbox('Jenis Kelamin', options=unique_gender, index=1 if 'Male' in unique_gender else 0)\n",
    "        education = st.selectbox('Pendidikan Terakhir', options=unique_education, index=0)\n",
    "        job_title = st.selectbox('Jabatan Anda', options=unique_job_titles, index=unique_job_titles.index(\"Data Analyst\") if \"Data Analyst\" in unique_job_titles else 0)\n",
    "        experience = st.slider('Pengalaman Kerja (Tahun)', min_value=0, max_value=40, value=5, step=1)\n",
    "        country = st.selectbox('Negara Domisili Anda', options=unique_countries, index=unique_countries.index(\"Switzerland\") if \"Switzerland\" in unique_countries else 0)\n",
    "        st.markdown(\"---\")\n",
    "        analyze_button = st.button('🚀 Hasilkan Analisis & Rekomendasi', type=\"primary\", use_container_width=True)\n",
    "\n",
    "    if analyze_button and model is not None:\n",
    "        with st.spinner('Navigator AI sedang melakukan analisis mendalam...'):\n",
    "            input_features = pd.DataFrame([[age, gender, education, job_title, experience]], columns=['Age', 'Gender', 'Education Level', 'Job Title', 'Years of Experience'])\n",
    "            predicted_salary = model.predict(input_features)[0]\n",
    "            \n",
    "            exp_range = [experience - 2, experience + 2]\n",
    "            peer_group_df = salary_df[(salary_df['Job Title'] == job_title) & (salary_df['Education Level'] == education) & (salary_df['Years of Experience'].between(exp_range[0], exp_range[1]))]\n",
    "            peer_group_avg_salary = peer_group_df['Salary'].mean()\n",
    "            \n",
    "            national_avg_salary = global_df.loc[global_df['country_name'] == country, 'yearly_average_salary'].iloc[0]\n",
    "            \n",
    "            st.header(f\"📊 Laporan Analisis untuk: {job_title}\")\n",
    "            st.markdown(f\"Dengan **{experience} tahun** pengalaman di **{country}**.\")\n",
    "            \n",
    "            st.subheader(\"Analisis Komparasi Gaji (Tahunan USD)\")\n",
    "            cols_metric = st.columns(3)\n",
    "            cols_metric[0].metric(label=\"Prediksi Gaji Anda\", value=f\"${predicted_salary:,.0f}\")\n",
    "            if pd.notna(peer_group_avg_salary):\n",
    "                cols_metric[1].metric(label=\"Rata-rata Gaji Peer Group\", value=f\"${peer_group_avg_salary:,.0f}\", delta=f\"{(predicted_salary/peer_group_avg_salary - 1):.1%}\")\n",
    "            cols_metric[2].metric(label=\"Rata-rata Gaji Nasional\", value=f\"${national_avg_salary:,.0f}\", delta=f\"{(predicted_salary/national_avg_salary - 1):.1%}\")\n",
    "\n",
    "            st.markdown(\"---\")\n",
    "            st.header(\"✨ Simulasi Jalur Karier Optimal Anda\")\n",
    "            path, gain = find_best_career_path(career_graph, job_title)\n",
    "            \n",
    "            if path and len(path) > 1:\n",
    "                path_str = \" ➡️ \".join([f\"**{node}**\" for node in path])\n",
    "                st.markdown(f\"#### {path_str}\")\n",
    "                st.success(f\"Potensi total kenaikan gaji dari jalur ini adalah sekitar **${gain:,.0f} USD**.\")\n",
    "            else:\n",
    "                st.info(\"Kami tidak dapat menemukan jalur promosi yang jelas untuk posisi Anda dari data yang tersedia.\")\n",
    "            \n",
    "            st.markdown(\"---\")\n",
    "            st.header(\"🧠 Rekomendasi Cerdas dari Navigator AI\")\n",
    "            ai_response_md = \"\"\n",
    "            try:\n",
    "                api_key = os.getenv(\"GEMINI_API_KEY\")\n",
    "                if api_key:\n",
    "                    genai.configure(api_key=api_key)\n",
    "                    gemini_model = genai.GenerativeModel('gemini-1.5-flash')\n",
    "                    prompt = f\"\"\"\n",
    "                    **Peran Anda:** Anda adalah 'Career Navigator AI', konsultan karier virtual yang sangat analitis dan suportif.\n",
    "                    **Tugas Anda:** Analisis data pengguna yang sangat detail ini. Berdasarkan HANYA pada data ini, berikan saran yang tajam, spesifik, dan dapat ditindaklanjuti. Jangan meminta info tambahan.\n",
    "                    **Data Pengguna Lengkap:**\n",
    "                    - Jabatan: {job_title}, Pengalaman: {experience} tahun\n",
    "                    - Pendidikan: {education}, Usia: {age}, Gender: {gender}\n",
    "                    - Lokasi: {country}\n",
    "                    - Prediksi Gaji: ${predicted_salary:,.0f} USD\n",
    "                    - Perbandingan vs Peer Group: {(predicted_salary/peer_group_avg_salary - 1) if pd.notna(peer_group_avg_salary) and peer_group_avg_salary > 0 else 0:.1%}\n",
    "                    - Simulasi Jalur Karier Berikutnya: {' -> '.join(path) if path and len(path) > 1 else 'Tidak ada jalur jelas yang ditemukan'}\n",
    "\n",
    "                    **Struktur Output (Gunakan Format Markdown):**\n",
    "                    ### Analisis Profil Singkat\n",
    "                    Berikan 1-2 kalimat analisis singkat tentang posisi pengguna berdasarkan perbandingan dengan peer group.\n",
    "                    ### Rekomendasi Peningkatan Skill\n",
    "                    Sarankan 2 skill paling berdampak yang bisa dipelajari untuk mencapai jalur karier yang disimulasikan atau meningkatkan posisi tawar.\n",
    "                    ### Validasi Jalur Karier\n",
    "                    Berikan komentar singkat tentang jalur karier yang disimulasikan. Apakah realistis? Apa yang perlu dipersiapkan untuk langkah pertama?\n",
    "                    ### Wawasan Global & Industri Lokal\n",
    "                    1. **Potensi Kerja Remote:** Berikan wawasan tentang kultur kerja remote untuk profesi rekomendasi peningkatan skill dari '{job_title}'.\n",
    "                    2. **Industri Lokal ({country}):** Sebutkan 3 industri di '{country}' yang sedang butuh talenta seperti yang peningkatan skill yang direkomendasikan anda. \n",
    "                    \"\"\"\n",
    "                    ai_response = gemini_model.generate_content(prompt)\n",
    "                    ai_response_md = ai_response.text\n",
    "                    st.markdown(ai_response_md)\n",
    "                else:\n",
    "                    st.warning(\"GEMINI_API_KEY tidak ditemukan. Rekomendasi AI tidak dapat ditampilkan.\")\n",
    "            except Exception as e:\n",
    "                st.error(f\"Gagal menghubungi layanan AI: {e}\")\n",
    "\n",
    "            st.markdown(\"---\")\n",
    "            report_data_for_pdf = {\n",
    "                \"job_title\": job_title, \"experience\": experience, \"education\": education,\n",
    "                \"age\": age, \"gender\": gender, \"country\": country,\n",
    "                \"predicted_salary\": predicted_salary, \"peer_group_avg_salary\": peer_group_avg_salary if pd.notna(peer_group_avg_salary) else 0,\n",
    "                \"peer_vs_you\": (predicted_salary/peer_group_avg_salary - 1) if pd.notna(peer_group_avg_salary) and peer_group_avg_salary > 0 else 0,\n",
    "                \"national_avg_salary\": national_avg_salary,\n",
    "                \"national_vs_you\": (predicted_salary/national_avg_salary - 1),\n",
    "                \"path\": path, \"gain\": gain, \"ai_response\": ai_response_md\n",
    "            }\n",
    "            pdf_data = generate_pdf_report(report_data_for_pdf)\n",
    "            st.download_button(\n",
    "                label=\"📥 Unduh Laporan Analisis Lengkap (.pdf)\",\n",
    "                data=pdf_data,\n",
    "                file_name=f\"Laporan_Karier_{job_title.replace(' ', '_')}.pdf\",\n",
    "                mime=\"application/pdf\",\n",
    "            )\n",
    "    elif model is None:\n",
    "        st.error(\"Model tidak dapat dimuat. Aplikasi tidak bisa menjalankan analisis.\")\n",
    "    else:\n",
    "        st.info(\"Silakan isi profil Anda di sidebar kiri dan klik tombol analisis untuk memulai.\")\n",
    "\n",
    "with tab2:\n",
    "    st.header(\"Wawasan Global: Tren Gaji dan Profesi\")\n",
    "    st.markdown(\"Analisis tren gaji dan distribusi profesi di seluruh dunia berdasarkan data kami.\")\n",
    "    \n",
    "    if salary_df is not None and global_df is not None:\n",
    "        st.subheader(\"Peta Gaji Tahunan Rata-rata Global (USD)\")\n",
    "        fig_map_global = px.choropleth(global_df, locations=\"country_name\", locationmode=\"country names\", color=\"yearly_average_salary\", hover_name=\"country_name\", color_continuous_scale=px.colors.sequential.Plasma)\n",
    "        fig_map_global.update_layout(\n",
    "            geo=dict(bgcolor='rgba(0,0,0,0)'), \n",
    "            paper_bgcolor='rgba(0,0,0,0)', \n",
    "            plot_bgcolor='rgba(0,0,0,0)', \n",
    "            font=dict(color=\"white\" if st.config.get_option(\"theme.base\") == \"dark\" else \"black\")\n",
    "        )\n",
    "        st.plotly_chart(fig_map_global, use_container_width=True)\n",
    "\n",
    "        st.subheader(\"Top 15 Negara dengan Gaji Rata-rata Tertinggi\")\n",
    "        top_countries = global_df.nlargest(15, 'yearly_average_salary').sort_values(by='yearly_average_salary', ascending=True)\n",
    "        fig_countries_global = px.bar(top_countries, x='yearly_average_salary', y='country_name', orientation='h', labels={'yearly_average_salary': 'Rata-rata Gaji Tahunan (USD)', 'country_name': 'Negara'}, text='yearly_average_salary', color='yearly_average_salary', color_continuous_scale='Plasma')\n",
    "        fig_countries_global.update_traces(texttemplate='$%{text:,.0f}', textposition='outside')\n",
    "        fig_countries_global.update_layout(\n",
    "            paper_bgcolor='rgba(0,0,0,0)', \n",
    "            plot_bgcolor='rgba(0,0,0,0)',\n",
    "            font=dict(color=\"white\" if st.config.get_option(\"theme.base\") == \"dark\" else \"black\")\n",
    "        )\n",
    "        st.plotly_chart(fig_countries_global, use_container_width=True)\n",
    "        \n",
    "        st.subheader(\"Top 15 Profesi dengan Gaji Rata-rata Tertinggi\")\n",
    "        top_jobs = salary_df.groupby('Job Title')['Salary'].mean().nlargest(15).sort_values(ascending=True)\n",
    "        fig_jobs_global = px.bar(top_jobs, x='Salary', y=top_jobs.index, orientation='h', labels={'Salary': 'Rata-rata Gaji Tahunan (USD)', 'y': 'Jabatan'}, text=top_jobs.values, color='Salary', color_continuous_scale='Viridis')\n",
    "        fig_jobs_global.update_traces(texttemplate='$%{text:,.0f}', textposition='outside')\n",
    "        fig_jobs_global.update_layout(\n",
    "            paper_bgcolor='rgba(0,0,0,0)', \n",
    "            plot_bgcolor='rgba(0,0,0,0)', \n",
    "            font=dict(color=\"white\" if st.config.get_option(\"theme.base\") == \"dark\" else \"black\")\n",
    "        )\n",
    "        st.plotly_chart(fig_jobs_global, use_container_width=True)\n",
    "    else:\n",
    "        st.error(\"Gagal memuat data untuk wawasan global.\")"
   ]
  },
  {
   "cell_type": "code",
   "execution_count": null,
   "id": "fcb7302e",
   "metadata": {},
   "outputs": [
    {
     "name": "stdout",
     "output_type": "stream",
     "text": [
      "Menjalankan server Streamlit dari file 'app.py'...\n",
      "Memberi waktu 5 detik agar server Streamlit siap...\n",
      "🎉 Streamlit App: NgrokTunnel: \"https://5018-182-253-58-223.ngrok-free.app\" -> \"http://localhost:8501\"\n"
     ]
    }
   ],
   "source": [
    "import os\n",
    "import subprocess\n",
    "import time\n",
    "from pyngrok import ngrok\n",
    "from dotenv import load_dotenv\n",
    "\n",
    "\n",
    "load_dotenv()\n",
    "NGROK_AUTH_TOKEN = os.getenv(\"NGROK_AUTH_TOKEN\")\n",
    "\n",
    "if not NGROK_AUTH_TOKEN:\n",
    "    print(\"Error: NGROK_AUTH_TOKEN tidak ditemukan.\")\n",
    "else:\n",
    "    ngrok.set_auth_token(NGROK_AUTH_TOKEN)\n",
    "    \n",
    "    print(\"Menjalankan server Streamlit dari file 'app.py'...\")\n",
    "    process = subprocess.Popen([\"streamlit\", \"run\", \"app.py\", \"--server.port\", \"8501\"])\n",
    "\n",
    "    print(\"Memberi waktu 5 detik agar server Streamlit siap...\")\n",
    "    time.sleep(5)\n",
    "\n",
    "    try:\n",
    "        public_url = ngrok.connect(8501)\n",
    "        print(f\"🎉 Streamlit App: {public_url}\")\n",
    "    except Exception as e:\n",
    "        print(f\"Gagal membuat tunnel ngrok: {e}\")"
   ]
  },
  {
   "cell_type": "markdown",
   "id": "5742b0a5",
   "metadata": {},
   "source": [
    "***THE END***"
   ]
  }
 ],
 "metadata": {
  "kernelspec": {
   "display_name": "Python 3",
   "language": "python",
   "name": "python3"
  },
  "language_info": {
   "codemirror_mode": {
    "name": "ipython",
    "version": 3
   },
   "file_extension": ".py",
   "mimetype": "text/x-python",
   "name": "python",
   "nbconvert_exporter": "python",
   "pygments_lexer": "ipython3",
   "version": "3.12.1"
  }
 },
 "nbformat": 4,
 "nbformat_minor": 5
}
